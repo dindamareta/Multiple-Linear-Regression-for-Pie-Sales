{
 "cells": [
  {
   "cell_type": "markdown",
   "metadata": {},
   "source": [
    "*Data Science Course - Telkom Digital Talent Incubator 2020*\n",
    "\n",
    "Dinda Mareta Putriany\n",
    "<br> DS0207\n",
    "\n",
    "---"
   ]
  },
  {
   "cell_type": "markdown",
   "metadata": {},
   "source": [
    "# *Multiple Linear Regression Model* Untuk Prediksi Penjualan Pie"
   ]
  },
  {
   "cell_type": "markdown",
   "metadata": {},
   "source": [
    "**Analisis Regresi** adalah suatu metode analisis statistik yang digunakan untuk melihat pengaruh antara dua atau lebih banyak variabel. Variabel \"pengaruh\" disebut dengan bermacam-macam istilah: variabel peubah, variabel *explanatory* atau biasa disebut penduga (*predictor variable*), variabel bebas (*Independen*), variabel X. Variabel terkena akibat dikenal sebagai variabel yang dipengaruhi, variabel *respons*, variabel bergantung (*dependent*), variabel terikat, atau variabel Y. \n",
    "Kedua variabel ini dapat merupakan variabel acak (*random*), namun variabel yang dipengaruhi harus selalu variabel acak. Regresi terbagi menjadi beberapa jenis, yaitu regresi sederhana (*simple regression*) dan regresi berganda (*multiple regression*)."
   ]
  },
  {
   "cell_type": "markdown",
   "metadata": {},
   "source": [
    "**Regresi berganda (*multiple regression*)** adalah model regresi atau prediksi yang melibatkan lebih dari satu variabel bebas atau prediktor. Pada code ini akan membuat multiple linear regression model dengan menggunakan data set penjualan pie beserta analisisnya."
   ]
  },
  {
   "cell_type": "markdown",
   "metadata": {},
   "source": [
    "### *Import Library*"
   ]
  },
  {
   "cell_type": "code",
   "execution_count": 1,
   "metadata": {},
   "outputs": [],
   "source": [
    "import pandas as pd\n",
    "import statsmodels.api as sm\n",
    "import seaborn as sns\n",
    "import matplotlib.pyplot as plt\n",
    "import warnings\n",
    "import numpy as np\n",
    "import math\n",
    "from sklearn import linear_model\n",
    "from sklearn import metrics\n",
    "from mpl_toolkits import mplot3d\n",
    "import scipy.stats as stats"
   ]
  },
  {
   "cell_type": "markdown",
   "metadata": {},
   "source": [
    "### *Import Dataset*"
   ]
  },
  {
   "cell_type": "markdown",
   "metadata": {},
   "source": [
    "Berikut merupakan *dataset* yang berisi data penjualan pie selama 15 minggu beserta atribut-atributnya.\n",
    "<br>\n",
    "1. **week**: Waktu penjualan pie dalam minggu. <br>\n",
    "2. **pie sales**: Jumlah pie yang terjual pada minggu tersebut.<br>\n",
    "3. **price**: Harga pie pada minggu tersebut.  <br>\n",
    "4. **advertising**: Biaya periklanan pada minggu tersebut."
   ]
  },
  {
   "cell_type": "code",
   "execution_count": 2,
   "metadata": {},
   "outputs": [
    {
     "data": {
      "text/html": [
       "<div>\n",
       "<style scoped>\n",
       "    .dataframe tbody tr th:only-of-type {\n",
       "        vertical-align: middle;\n",
       "    }\n",
       "\n",
       "    .dataframe tbody tr th {\n",
       "        vertical-align: top;\n",
       "    }\n",
       "\n",
       "    .dataframe thead th {\n",
       "        text-align: right;\n",
       "    }\n",
       "</style>\n",
       "<table border=\"1\" class=\"dataframe\">\n",
       "  <thead>\n",
       "    <tr style=\"text-align: right;\">\n",
       "      <th></th>\n",
       "      <th>week</th>\n",
       "      <th>pie_sales</th>\n",
       "      <th>price</th>\n",
       "      <th>advertising</th>\n",
       "    </tr>\n",
       "  </thead>\n",
       "  <tbody>\n",
       "    <tr>\n",
       "      <th>0</th>\n",
       "      <td>1</td>\n",
       "      <td>350</td>\n",
       "      <td>5.5</td>\n",
       "      <td>3.3</td>\n",
       "    </tr>\n",
       "    <tr>\n",
       "      <th>1</th>\n",
       "      <td>2</td>\n",
       "      <td>460</td>\n",
       "      <td>7.5</td>\n",
       "      <td>3.3</td>\n",
       "    </tr>\n",
       "    <tr>\n",
       "      <th>2</th>\n",
       "      <td>3</td>\n",
       "      <td>350</td>\n",
       "      <td>8.0</td>\n",
       "      <td>3.0</td>\n",
       "    </tr>\n",
       "    <tr>\n",
       "      <th>3</th>\n",
       "      <td>4</td>\n",
       "      <td>430</td>\n",
       "      <td>8.0</td>\n",
       "      <td>4.5</td>\n",
       "    </tr>\n",
       "    <tr>\n",
       "      <th>4</th>\n",
       "      <td>5</td>\n",
       "      <td>350</td>\n",
       "      <td>6.8</td>\n",
       "      <td>3.0</td>\n",
       "    </tr>\n",
       "    <tr>\n",
       "      <th>5</th>\n",
       "      <td>6</td>\n",
       "      <td>380</td>\n",
       "      <td>7.5</td>\n",
       "      <td>4.0</td>\n",
       "    </tr>\n",
       "    <tr>\n",
       "      <th>6</th>\n",
       "      <td>7</td>\n",
       "      <td>430</td>\n",
       "      <td>4.5</td>\n",
       "      <td>3.0</td>\n",
       "    </tr>\n",
       "    <tr>\n",
       "      <th>7</th>\n",
       "      <td>8</td>\n",
       "      <td>470</td>\n",
       "      <td>6.4</td>\n",
       "      <td>3.7</td>\n",
       "    </tr>\n",
       "    <tr>\n",
       "      <th>8</th>\n",
       "      <td>9</td>\n",
       "      <td>450</td>\n",
       "      <td>7.0</td>\n",
       "      <td>3.5</td>\n",
       "    </tr>\n",
       "    <tr>\n",
       "      <th>9</th>\n",
       "      <td>10</td>\n",
       "      <td>490</td>\n",
       "      <td>5.0</td>\n",
       "      <td>4.0</td>\n",
       "    </tr>\n",
       "    <tr>\n",
       "      <th>10</th>\n",
       "      <td>11</td>\n",
       "      <td>340</td>\n",
       "      <td>7.2</td>\n",
       "      <td>3.5</td>\n",
       "    </tr>\n",
       "    <tr>\n",
       "      <th>11</th>\n",
       "      <td>12</td>\n",
       "      <td>300</td>\n",
       "      <td>7.9</td>\n",
       "      <td>3.2</td>\n",
       "    </tr>\n",
       "    <tr>\n",
       "      <th>12</th>\n",
       "      <td>13</td>\n",
       "      <td>440</td>\n",
       "      <td>5.9</td>\n",
       "      <td>4.0</td>\n",
       "    </tr>\n",
       "    <tr>\n",
       "      <th>13</th>\n",
       "      <td>14</td>\n",
       "      <td>450</td>\n",
       "      <td>5.0</td>\n",
       "      <td>3.5</td>\n",
       "    </tr>\n",
       "    <tr>\n",
       "      <th>14</th>\n",
       "      <td>15</td>\n",
       "      <td>300</td>\n",
       "      <td>7.0</td>\n",
       "      <td>2.7</td>\n",
       "    </tr>\n",
       "  </tbody>\n",
       "</table>\n",
       "</div>"
      ],
      "text/plain": [
       "    week  pie_sales  price  advertising\n",
       "0      1        350    5.5          3.3\n",
       "1      2        460    7.5          3.3\n",
       "2      3        350    8.0          3.0\n",
       "3      4        430    8.0          4.5\n",
       "4      5        350    6.8          3.0\n",
       "5      6        380    7.5          4.0\n",
       "6      7        430    4.5          3.0\n",
       "7      8        470    6.4          3.7\n",
       "8      9        450    7.0          3.5\n",
       "9     10        490    5.0          4.0\n",
       "10    11        340    7.2          3.5\n",
       "11    12        300    7.9          3.2\n",
       "12    13        440    5.9          4.0\n",
       "13    14        450    5.0          3.5\n",
       "14    15        300    7.0          2.7"
      ]
     },
     "execution_count": 2,
     "metadata": {},
     "output_type": "execute_result"
    }
   ],
   "source": [
    "# Import Dataset*\n",
    "df_pie = pd.read_csv('https://raw.githubusercontent.com/rc-dbe/dti/main/data/pie-sales.csv', sep =\";\")\n",
    "df_pie"
   ]
  },
  {
   "cell_type": "markdown",
   "metadata": {},
   "source": [
    "### Korelasi Setiap Atribut"
   ]
  },
  {
   "cell_type": "markdown",
   "metadata": {},
   "source": [
    "Sebelum membangun model, perlu menentukan variabel *Dependent* dan variabel *Independent* terlebih dahulu. Karena tujuan dari membangun model ini adalah untuk melakukan prediksi penjualan pie, maka atribut pie_sales merupakan *Dependent Variable*. Untuk menentukan *Independent Variable* dapat menggunakan korelasi sebagai berikut."
   ]
  },
  {
   "cell_type": "code",
   "execution_count": 3,
   "metadata": {},
   "outputs": [
    {
     "data": {
      "text/html": [
       "<div>\n",
       "<style scoped>\n",
       "    .dataframe tbody tr th:only-of-type {\n",
       "        vertical-align: middle;\n",
       "    }\n",
       "\n",
       "    .dataframe tbody tr th {\n",
       "        vertical-align: top;\n",
       "    }\n",
       "\n",
       "    .dataframe thead th {\n",
       "        text-align: right;\n",
       "    }\n",
       "</style>\n",
       "<table border=\"1\" class=\"dataframe\">\n",
       "  <thead>\n",
       "    <tr style=\"text-align: right;\">\n",
       "      <th></th>\n",
       "      <th>week</th>\n",
       "      <th>pie_sales</th>\n",
       "      <th>price</th>\n",
       "      <th>advertising</th>\n",
       "    </tr>\n",
       "  </thead>\n",
       "  <tbody>\n",
       "    <tr>\n",
       "      <th>week</th>\n",
       "      <td>1.000000</td>\n",
       "      <td>-0.067887</td>\n",
       "      <td>-0.227662</td>\n",
       "      <td>-0.039217</td>\n",
       "    </tr>\n",
       "    <tr>\n",
       "      <th>pie_sales</th>\n",
       "      <td>-0.067887</td>\n",
       "      <td>1.000000</td>\n",
       "      <td>-0.443273</td>\n",
       "      <td>0.556320</td>\n",
       "    </tr>\n",
       "    <tr>\n",
       "      <th>price</th>\n",
       "      <td>-0.227662</td>\n",
       "      <td>-0.443273</td>\n",
       "      <td>1.000000</td>\n",
       "      <td>0.030438</td>\n",
       "    </tr>\n",
       "    <tr>\n",
       "      <th>advertising</th>\n",
       "      <td>-0.039217</td>\n",
       "      <td>0.556320</td>\n",
       "      <td>0.030438</td>\n",
       "      <td>1.000000</td>\n",
       "    </tr>\n",
       "  </tbody>\n",
       "</table>\n",
       "</div>"
      ],
      "text/plain": [
       "                 week  pie_sales     price  advertising\n",
       "week         1.000000  -0.067887 -0.227662    -0.039217\n",
       "pie_sales   -0.067887   1.000000 -0.443273     0.556320\n",
       "price       -0.227662  -0.443273  1.000000     0.030438\n",
       "advertising -0.039217   0.556320  0.030438     1.000000"
      ]
     },
     "execution_count": 3,
     "metadata": {},
     "output_type": "execute_result"
    }
   ],
   "source": [
    "corelation = df_pie.corr()\n",
    "corelation"
   ]
  },
  {
   "cell_type": "markdown",
   "metadata": {},
   "source": [
    "Dapat dilihat pada tabel di atas bahwa atribut week memiliki nilai lebih kecil dari atribut lainnya. Sehingga atribut week dianggap tidak mempengaruhi atribut pie_sales. Sedangkan atribut lainnya dianggap memiliki pengaruh pada atribut pie_sales."
   ]
  },
  {
   "cell_type": "markdown",
   "metadata": {},
   "source": [
    "### Visualisasi Data"
   ]
  },
  {
   "cell_type": "markdown",
   "metadata": {},
   "source": [
    "Visualisasi dibutuhkan untuk menampilkan data dan meilhat hubungan antar variabel. Untuk menampilkan visualisasi data menggunakan *Scatter Plot* dari *Seaborn*. Terdapat 2 jenis visualisasi yaitu *2D Scatter Plot* dan *3D Scatter Plot*.  "
   ]
  },
  {
   "cell_type": "markdown",
   "metadata": {},
   "source": [
    "#### *2D Scatter Plot*"
   ]
  },
  {
   "cell_type": "code",
   "execution_count": 4,
   "metadata": {
    "scrolled": true
   },
   "outputs": [
    {
     "data": {
      "text/plain": [
       "<seaborn.axisgrid.PairGrid at 0x21bd5af0ec8>"
      ]
     },
     "execution_count": 4,
     "metadata": {},
     "output_type": "execute_result"
    },
    {
     "data": {
      "image/png": "[encoded data removed]",
      "text/plain": [
       "<Figure size 360x180 with 2 Axes>"
      ]
     },
     "metadata": {
      "needs_background": "light"
     },
     "output_type": "display_data"
    }
   ],
   "source": [
    "# Visualize the data using scatterplot\n",
    "sns.pairplot(x_vars=[\"price\",\"advertising\"], y_vars=\"pie_sales\", data=df_pie)"
   ]
  },
  {
   "cell_type": "markdown",
   "metadata": {},
   "source": [
    "Berdasarkan visualisasi data menggunakan *scatter* di atas, terdapat kemungkinan terdapat hubungan antar atribut price dan advertising terhadap atribut pie_sales. "
   ]
  },
  {
   "cell_type": "markdown",
   "metadata": {},
   "source": [
    "#### *3D Scatter Plot*"
   ]
  },
  {
   "cell_type": "markdown",
   "metadata": {},
   "source": [
    "Berikut merupakan visualisasi data pada 3D *scatter plot*."
   ]
  },
  {
   "cell_type": "code",
   "execution_count": 5,
   "metadata": {
    "scrolled": true
   },
   "outputs": [
    {
     "data": {
      "image/png": "[encoded data removed]",
      "text/plain": [
       "<Figure size 432x360 with 1 Axes>"
      ]
     },
     "metadata": {
      "needs_background": "light"
     },
     "output_type": "display_data"
    }
   ],
   "source": [
    "# Creating dataset\n",
    "z = df_pie['pie_sales']; x = df_pie['price']; y = df_pie['advertising']\n",
    " \n",
    "# Creating figure\n",
    "fig = plt.figure(figsize = (6, 5)); ax = plt.axes(projection =\"3d\")\n",
    "ax.set_xlabel(\"price\"); ax.set_ylabel(\"advertising\"); ax.set_zlabel(\"pie_sales\")\n",
    " \n",
    "# Creating plot\n",
    "ax.scatter3D(x, y, z, color = \"blue\")\n",
    "plt.title(\"Visualisasi Data Pada 3D Scatter Plot\")\n",
    " \n",
    "# show plot\n",
    "plt.show()"
   ]
  },
  {
   "cell_type": "markdown",
   "metadata": {},
   "source": [
    "#### Visualisasi Pengaruh Variabel X Terhadap Variabel Y"
   ]
  },
  {
   "cell_type": "markdown",
   "metadata": {},
   "source": [
    "Seperti yang sudah dijelaskan sebelumnya bahwa atribut price dan advertising merupakan *Dependent Variable* (X) dan atribut pie_sales merupakan *Inependent Variable* (Y).\n",
    "<br>\n",
    "\n",
    "Untuk mengetahui pengaruh variabel X terhadap variabel Y dapat dilihat pada gambar di bawah ini."
   ]
  },
  {
   "cell_type": "code",
   "execution_count": 6,
   "metadata": {},
   "outputs": [
    {
     "data": {
      "text/plain": [
       "<seaborn.axisgrid.PairGrid at 0x21bd5cb9d08>"
      ]
     },
     "execution_count": 6,
     "metadata": {},
     "output_type": "execute_result"
    },
    {
     "data": {
      "image/png": "[encoded data removed]",
      "text/plain": [
       "<Figure size 720x360 with 2 Axes>"
      ]
     },
     "metadata": {
      "needs_background": "light"
     },
     "output_type": "display_data"
    }
   ],
   "source": [
    "# Visualize the data using scatterplot\n",
    "v = sns.PairGrid(x_vars=[\"price\",\"advertising\"], y_vars=\"pie_sales\", data=df_pie, height=5)\n",
    "v.map(sns.regplot)"
   ]
  },
  {
   "cell_type": "markdown",
   "metadata": {},
   "source": [
    "Berdasarkan visualisasi gambar di atas diketahui hubungan antara variabel X terhadap atribut Y sebagai berikut.\n",
    "1. Pada hubungan antara atribut **price (X)** dengan atribut **pie_sales (Y)** memiliki hubungan ***negative***, jika price semakin tinggi maka pie_sales akan turun. Hal ini berarti ketika menjual pie dengan harga yang tinggi, maka tidak banyak pie yang dijual.\n",
    "2. Pada Pada hubungan antara atribut **advertising (X)** dengan atribut **pie_sales (Y)** memiliki hubungan ***positive***, jika advertising semakin tinggi maka pie_sales juga semakin tinggi. Hal ini berari ketika semakin tinggi biaya pemasangan iklan yang dikeluarkan, maka pie yang terjual semakin banyak."
   ]
  },
  {
   "cell_type": "markdown",
   "metadata": {},
   "source": [
    "## Membuat Model *Multiple Linear Regression*"
   ]
  },
  {
   "cell_type": "markdown",
   "metadata": {},
   "source": [
    "Setelah mengetahui kemungkinan hubungan antar variabel, dilanjutkan dengan membuat model regresi. Model regresi di buat dengan menggunakan *Scikit Learn* dan *Statsmodels*."
   ]
  },
  {
   "cell_type": "markdown",
   "metadata": {},
   "source": [
    "### Menggunakan *Scikit Learn*"
   ]
  },
  {
   "cell_type": "markdown",
   "metadata": {},
   "source": [
    "Model ini dibangun dengan menggunakan bantuan *library* yang bernama *Scikit Learn* atau biasa disebut *Sklearn*."
   ]
  },
  {
   "cell_type": "code",
   "execution_count": 7,
   "metadata": {},
   "outputs": [],
   "source": [
    "# Set independent and dependent variables\n",
    "X = df_pie[['price','advertising']] # here we have 2 variables for multiple regression. \n",
    "Y = df_pie['pie_sales']"
   ]
  },
  {
   "cell_type": "markdown",
   "metadata": {},
   "source": [
    "Karena merupakan model yang linear maka menggunakan fungsi *LinearRegression()*."
   ]
  },
  {
   "cell_type": "code",
   "execution_count": 8,
   "metadata": {
    "scrolled": true
   },
   "outputs": [
    {
     "data": {
      "text/plain": [
       "LinearRegression(copy_X=True, fit_intercept=True, n_jobs=None, normalize=False)"
      ]
     },
     "execution_count": 8,
     "metadata": {},
     "output_type": "execute_result"
    }
   ],
   "source": [
    "#initialize model with sklearn \n",
    "regr = linear_model.LinearRegression()\n",
    "regr.fit(X, Y)"
   ]
  },
  {
   "cell_type": "markdown",
   "metadata": {},
   "source": [
    "Dari proses di atas menghasilkan nilai *intercept* dan *coefficients* yang dihasilkan sebagai berikut."
   ]
  },
  {
   "cell_type": "code",
   "execution_count": 9,
   "metadata": {},
   "outputs": [
    {
     "name": "stdout",
     "output_type": "stream",
     "text": [
      "Intercept: 306.5261932837437\n",
      "Coefficients: [-24.97508952  74.13095749]\n"
     ]
    }
   ],
   "source": [
    "print('Intercept:', regr.intercept_)\n",
    "print('Coefficients:', regr.coef_)"
   ]
  },
  {
   "cell_type": "markdown",
   "metadata": {},
   "source": [
    "***Intercept*** merupakan perkiraan nilai rata-rata dari variabel Y apabila nilai variabel X = 0. Dengan kata lain apabila X tidak memberi kontribusi, maka variabel Y akan sebesar nilai *intercept*. Secara matematis *intercept* didefinisikan sebagai suatu titik potong antara suatu garis dengan sumbu Y saat nilai X = 0. Pada model ini didapatkan nilai *intercept* sebesar 306.5261932837437.\n",
    "<br>\n",
    "<br>\n",
    "***Coefficients*** merupakan nilai yang menggambarkan parameter model regresi yang dimiliki. *Coefficients* untuk model regresi merupakan suatu nilai rata-rata yang memiliki peluang kejadian pada variabel Y terhadap variabel X yang diberikan. Pada nodel ini memiliki 2 variabel, yaitu x1 untuk atribut price dengan nilai -24.97508952 dan x2 untuk atribut advertising dengan nilai 74.13095749."
   ]
  },
  {
   "cell_type": "markdown",
   "metadata": {},
   "source": [
    "Nilai yang telah di dapatkan akan dimasukkan ke dalam persamaan berikut."
   ]
  },
  {
   "attachments": {
    "image.png": {
     "image/png": "[encoded data removed]"
    }
   },
   "cell_type": "markdown",
   "metadata": {},
   "source": [
    "![image.png](attachment:image.png)"
   ]
  },
  {
   "cell_type": "markdown",
   "metadata": {},
   "source": [
    "Maka, persamaan yang didapat adalah <br> <br>\n",
    "**Y = 306.5261932837437 - 24.97508952(price) + 74.13095749(advertising)**\n",
    "<br><br>\n",
    "Sehingga, benar bahwa atribut price dengan atribut pie_sales memiliki hubungan yang negatif dan atribut advertising dengan atribut pie_sales memiliki hubungan yang positif."
   ]
  },
  {
   "cell_type": "markdown",
   "metadata": {},
   "source": [
    "Kemudian melakukan prediksi menggunakan model yang telah dibangun dengan menggunakan data baru. Misalkan data baru sebagai berikut. <br>\n",
    "**price**: 5.0 <br>\n",
    "**advertising**: 5.0"
   ]
  },
  {
   "cell_type": "code",
   "execution_count": 10,
   "metadata": {
    "scrolled": true
   },
   "outputs": [
    {
     "name": "stdout",
     "output_type": "stream",
     "text": [
      "Predicted Pie Sales: \n",
      " [552.30553314]\n"
     ]
    }
   ],
   "source": [
    "# prediksi penjualan rata-rata \n",
    "New_price = 5.0\n",
    "New_advertising = 5.0\n",
    "print ('Predicted Pie Sales: \\n', regr.predict([[New_advertising ,New_price]]))"
   ]
  },
  {
   "cell_type": "markdown",
   "metadata": {},
   "source": [
    "Berdasarkan hasil diatas dengan menggunakan data baru, pie yang terjual diprediksi sebanyak 552 pie."
   ]
  },
  {
   "cell_type": "code",
   "execution_count": 11,
   "metadata": {
    "scrolled": true
   },
   "outputs": [
    {
     "name": "stdout",
     "output_type": "stream",
     "text": [
      "[413.79536065 363.84518161 329.11834961 440.31478584 359.08845703\n",
      " 415.73685186 416.53116292 420.97016308 391.15891787 478.17457565\n",
      " 386.16389997 346.44205006 455.69699508 441.10909691 331.85415188]\n"
     ]
    }
   ],
   "source": [
    "# prediksi terhadap X\n",
    "predict = regr.predict(X)\n",
    "print(predict)"
   ]
  },
  {
   "cell_type": "markdown",
   "metadata": {},
   "source": [
    "### Menggunakan *Statsmodels*"
   ]
  },
  {
   "cell_type": "markdown",
   "metadata": {},
   "source": [
    "Model ini dibangun dengan menggunakan *Statsmodels*. Selain itu juga menampilkan ringkasan model dengan menggunakan *summary()*."
   ]
  },
  {
   "cell_type": "code",
   "execution_count": 20,
   "metadata": {},
   "outputs": [
    {
     "name": "stdout",
     "output_type": "stream",
     "text": [
      "                            OLS Regression Results                            \n",
      "==============================================================================\n",
      "Dep. Variable:              pie_sales   R-squared:                       0.521\n",
      "Model:                            OLS   Adj. R-squared:                  0.442\n",
      "Method:                 Least Squares   F-statistic:                     6.539\n",
      "Date:                Fri, 23 Oct 2020   Prob (F-statistic):             0.0120\n",
      "Time:                        20:44:19   Log-Likelihood:                -77.510\n",
      "No. Observations:                  15   AIC:                             161.0\n",
      "Df Residuals:                      12   BIC:                             163.1\n",
      "Df Model:                           2                                         \n",
      "Covariance Type:            nonrobust                                         \n",
      "===============================================================================\n",
      "                  coef    std err          t      P>|t|      [0.025      0.975]\n",
      "-------------------------------------------------------------------------------\n",
      "const         306.5262    114.254      2.683      0.020      57.588     555.464\n",
      "price         -24.9751     10.832     -2.306      0.040     -48.576      -1.374\n",
      "advertising    74.1310     25.967      2.855      0.014      17.553     130.709\n",
      "==============================================================================\n",
      "Omnibus:                        1.505   Durbin-Watson:                   1.683\n",
      "Prob(Omnibus):                  0.471   Jarque-Bera (JB):                0.937\n",
      "Skew:                           0.595   Prob(JB):                        0.626\n",
      "Kurtosis:                       2.709   Cond. No.                         72.2\n",
      "==============================================================================\n",
      "\n",
      "Warnings:\n",
      "[1] Standard Errors assume that the covariance matrix of the errors is correctly specified.\n"
     ]
    }
   ],
   "source": [
    "# with statsmodels\n",
    "X = sm.add_constant(X) # adding a constant\n",
    " \n",
    "model = sm.OLS(Y, X).fit()\n",
    "predictions = model.predict(X) \n",
    "\n",
    "warnings.filterwarnings('ignore')\n",
    "plt.rcParams['figure.figsize'] = (7, 7)\n",
    "plt.style.use('ggplot')\n",
    "\n",
    "print_model = model.summary()\n",
    "print(print_model)"
   ]
  },
  {
   "cell_type": "markdown",
   "metadata": {},
   "source": [
    "## Pengukuran Performansi Model"
   ]
  },
  {
   "cell_type": "markdown",
   "metadata": {},
   "source": [
    "Setelah model dibangun, alangkah baiknya jika dilakukan pengujian untuk mengukur performansi model. Performansi model dapat diukur dengan menggunakan koefisien determinasi, F-test, T-test, dan uji asumsi klasik."
   ]
  },
  {
   "cell_type": "markdown",
   "metadata": {},
   "source": [
    "**MAE** ***(Mean Absolute Error)***: merepresentasikan rata–rata kesalahan *(error)* absolut antara hasil prediksi dengan nilai sebenarnya.<br>\n",
    "**MSE** ***(Mean Squared Error)***: merepresentasikan rata–rata kesalahan *(error)* yang di kuadratkan antara hasil prediksi dengan nilai sebenarnya.<br>\n",
    "**RMSE** ***(Root Mean Squared Error)***: merepresentasikan tingkat kesalahan berdasarkan MSE.<br>\n",
    "***R-squared***: merepresentasikan tingkat ketepatan model.<br>"
   ]
  },
  {
   "cell_type": "code",
   "execution_count": 13,
   "metadata": {},
   "outputs": [
    {
     "name": "stdout",
     "output_type": "stream",
     "text": [
      "MAE: 34.54567364769344\n",
      "MSE: 1802.2204311503624\n",
      "RMSE: 42.45256683818262\n"
     ]
    }
   ],
   "source": [
    "print('MAE:',metrics.mean_absolute_error(Y, predict))  \n",
    "print('MSE:',metrics.mean_squared_error(Y, predict))  \n",
    "print('RMSE:',np.sqrt(metrics.mean_squared_error(Y, predict)))"
   ]
  },
  {
   "cell_type": "markdown",
   "metadata": {},
   "source": [
    "### Koefisien Determinasi (R<sup>2</sup>)"
   ]
  },
  {
   "cell_type": "markdown",
   "metadata": {},
   "source": [
    "**Koefisien determinasi (R<sup>2</sup>)** adalah besarnya informasi variabel Y yang dapat diberikan oleh model. Digunakan untuk menunjukkan seberapa besar persentase variasi variabel independen (X) yang bisa menjelaskan variabel dependen (Y). Nilai R<sup>2</sup> berkisar antara 0 hingga 1. Semakin besar nilai R<sup>2</sup> maka model yang diperoleh semakin baik."
   ]
  },
  {
   "cell_type": "markdown",
   "metadata": {},
   "source": [
    "Dapat dilihat pada *statsmodels*, nilai R<sup>2</sup> adalah 0.521. Untuk lebih lengkapnya terdapat di bawah ini."
   ]
  },
  {
   "cell_type": "code",
   "execution_count": 14,
   "metadata": {},
   "outputs": [
    {
     "name": "stdout",
     "output_type": "stream",
     "text": [
      "R2:  0.521477936029229\n"
     ]
    }
   ],
   "source": [
    "print('R2: ',model.rsquared)"
   ]
  },
  {
   "cell_type": "markdown",
   "metadata": {},
   "source": [
    "Dari R<sup>2</sup> yang diperoleh, yaitu 0.521 maka **terdapat 52.1% variabel idependen yang bisa menjelaskan variabel dependen.**"
   ]
  },
  {
   "cell_type": "markdown",
   "metadata": {},
   "source": [
    "### F-test (ANOVA)"
   ]
  },
  {
   "cell_type": "markdown",
   "metadata": {},
   "source": [
    "F-Test dapat juga disebut uji simultan model regresi, yaitu pengujian untuk mengetahui apakah variabel independen (X) secara bersama-sama secara signifikan memngaruhi variabel dependen (Y). Atau setidaknya antara salah satu variabel X dengan variabel terikat Y, benar-benar terdapat hubungan linier."
   ]
  },
  {
   "cell_type": "markdown",
   "metadata": {},
   "source": [
    "Rumusan hipotesis pada pengujian ini adalah sebagai berikut. <br>\n",
    "**H0** : Tidak ada pengaruh secara signifikan antara price dan advertising secara bersama-sama terhadap pie_sales. <br>\n",
    "**H1** : Ada pengaruh secara signifikan antara price dan advertising secara bersama-sama terhadap pie_sales."
   ]
  },
  {
   "cell_type": "markdown",
   "metadata": {},
   "source": [
    "Tingkat signifikasi yang digunakan adalah **&alpha; = 5%** (atau 0.05 karena merupakan ukuran standar yang sering digunakan dalam penelitian).<br> <br>\n",
    "Pada kasus ini terdapat 15 data dengan 2 variabel bebas, sehingga n = 15 dan k = 2. Maka, df1 (jumlah variabel) dan df2 (n-k-1) adalah **df1 = 2** dan **df2 = 12**. Berdasarkan tabel distribusi, maka nilai **F = 3.81** (lihat tabel baris ke-12)."
   ]
  },
  {
   "cell_type": "code",
   "execution_count": 16,
   "metadata": {},
   "outputs": [
    {
     "name": "stdout",
     "output_type": "stream",
     "text": [
      "F-statistic: 6.538606789020474\n",
      "Peluang: 0.012006372233186352\n"
     ]
    }
   ],
   "source": [
    "print('F-statistic:', model.fvalue)\n",
    "print('Peluang:', model.f_pvalue)"
   ]
  },
  {
   "cell_type": "markdown",
   "metadata": {},
   "source": [
    "Terdapat kriteria pengujian sebagai berikut. <br>\n",
    "- H0 **diterima** bila F-statistic < F tabel <br>\n",
    "- H0 **ditolak** bila F-statistic > F tabel"
   ]
  },
  {
   "cell_type": "markdown",
   "metadata": {},
   "source": [
    "Diketahui bahwa **F-statistic = 6.54** dan **F tabel = 3.81**, maka **F-statistic > F tabel**. Sehingga **H0 ditolak**, artinya **ada pengaruh secara signifikan** antara price dan advertising secara bersama-sama terhadap pie_sales. Selain itu, **model regresi yang diperoleh dapat digunakan.**"
   ]
  },
  {
   "cell_type": "markdown",
   "metadata": {},
   "source": [
    "### T-test "
   ]
  },
  {
   "cell_type": "markdown",
   "metadata": {},
   "source": [
    "T-test juga biasa disebut dengan uji parsial. Pengujian ini digunakan untuk menguji apakah variabel X secara terpisah (parsial) masih dapat mempengaruhi variabel Y."
   ]
  },
  {
   "cell_type": "markdown",
   "metadata": {},
   "source": [
    "#### Atribut price terhadap pie_sales"
   ]
  },
  {
   "cell_type": "markdown",
   "metadata": {},
   "source": [
    "Rumusan hipotesis untuk pengujian ini adalah sebagai berikut. <br>\n",
    "**H0** : Tidak ada pengaruh secara parsial antara price terhadap pie_sales. <br>\n",
    "**H1** : Ada pengaruh secara parsial antara price terhadap pie_sales."
   ]
  },
  {
   "cell_type": "markdown",
   "metadata": {},
   "source": [
    "Tingkat signifikasi yang digunakan adalah **&alpha; = 5%** (atau 0.05 karena merupakan ukuran standar yang sering digunakan dalam penelitian). Selanjutnya menenentukan t hitung **(t)**, berdasarkan tabel *statsmodels* diperoleh **t = -2.306**.<br>\n",
    "Berikut merupakan tabel distribusi t."
   ]
  },
  {
   "attachments": {},
   "cell_type": "markdown",
   "metadata": {},
   "source": [
    "<img src=\"TabelT.png\">"
   ]
  },
  {
   "cell_type": "markdown",
   "metadata": {},
   "source": [
    "Tabel distribusi t dicari pada &alpha; = 5% / 2 = 2.5% = 0.025 (uji dua sisi). Dengan df2 = 12, maka berdasarkan tabel distribusi t, nilai **T-tabel = 2.178813** (lihat v = 12 dan &alpha; = 0.025)."
   ]
  },
  {
   "cell_type": "markdown",
   "metadata": {},
   "source": [
    "Terdapat kriteria pengujian sebagai berikut. <br>\n",
    "- H0 **diterima** bila - T-tabel < t < T-tabel <br>\n",
    "- H0 **ditolak** bila - t < - T-tabel atau t > T-tabel"
   ]
  },
  {
   "cell_type": "markdown",
   "metadata": {},
   "source": [
    "Diketahui bahwa **t = -2.306** dan **T-tabel = 2.178813**, maka **- t < - T-tabel**. Sehingga **H0 ditolak**, artinya **ada pengaruh secara parsial antara price terhadap pie_sales.**"
   ]
  },
  {
   "cell_type": "markdown",
   "metadata": {},
   "source": [
    "#### Atribut advertising terhadap pie_sales"
   ]
  },
  {
   "cell_type": "markdown",
   "metadata": {},
   "source": [
    "Rumusan hipotesis untuk pengujian ini adalah sebagai berikut. <br>\n",
    "**H0** : Tidak ada pengaruh secara parsial antara advertising terhadap pie_sales. <br>\n",
    "**H1** : Ada pengaruh secara parsial antara advertising terhadap pie_sales."
   ]
  },
  {
   "cell_type": "markdown",
   "metadata": {},
   "source": [
    "Tingkat signifikasi yang digunakan adalah **&alpha; = 5%** (atau 0.05 karena merupakan ukuran standar yang sering digunakan dalam penelitian). Selanjutnya menenentukan t hitung **(t)**, berdasarkan tabel *statsmodels* diperoleh **t = 2.855**.<br>"
   ]
  },
  {
   "cell_type": "markdown",
   "metadata": {},
   "source": [
    "Berdasarkan tabel distribusi t, maka nilai **T-tabel = 2.178813**. Maka **t > T-tabel**. Sehingga **H0 ditolak**, artinya **ada pengaruh secara parsial antara advertising terhadap pie_sales.**"
   ]
  },
  {
   "cell_type": "markdown",
   "metadata": {},
   "source": [
    "Jadi kesimpulan akhir yang didapatkan pada T-test adalah atribut price dan advertising sama-sama memiliki pengaruh secara parsial terhadap atribut pie_sales."
   ]
  },
  {
   "cell_type": "markdown",
   "metadata": {},
   "source": [
    "### Uji Asumsi Klasik"
   ]
  },
  {
   "cell_type": "markdown",
   "metadata": {},
   "source": [
    "Uji asumsi klasik dilakukan menggunakan teknik perhitungan yang disebut Ordinary Least Square (OLS). Dengan menggunakan teknik ini diharapkan kesalahan dalam prediksi terjadi seminimal mungkin. Terdapat beberapa jenis asumsi klasik. Pada kali ini asumsi yang digunakan adalah asumsi normalitas, multikolinieritas, dan autokorelasi. <br> <br>\n",
    "Pengujian asumsi klasik menggunakan data residual, kecuali untuk asumsi multikolinieritas. Residual didapatkan dari pembangunan model menggunakan *statsmodels*."
   ]
  },
  {
   "cell_type": "code",
   "execution_count": 17,
   "metadata": {
    "scrolled": true
   },
   "outputs": [
    {
     "data": {
      "text/html": [
       "<div>\n",
       "<style scoped>\n",
       "    .dataframe tbody tr th:only-of-type {\n",
       "        vertical-align: middle;\n",
       "    }\n",
       "\n",
       "    .dataframe tbody tr th {\n",
       "        vertical-align: top;\n",
       "    }\n",
       "\n",
       "    .dataframe thead th {\n",
       "        text-align: right;\n",
       "    }\n",
       "</style>\n",
       "<table border=\"1\" class=\"dataframe\">\n",
       "  <thead>\n",
       "    <tr style=\"text-align: right;\">\n",
       "      <th></th>\n",
       "      <th>pie_sales</th>\n",
       "      <th>price</th>\n",
       "      <th>advertising</th>\n",
       "      <th>pie_sales_pred</th>\n",
       "      <th>residual</th>\n",
       "    </tr>\n",
       "  </thead>\n",
       "  <tbody>\n",
       "    <tr>\n",
       "      <th>0</th>\n",
       "      <td>350</td>\n",
       "      <td>5.5</td>\n",
       "      <td>3.3</td>\n",
       "      <td>413.795361</td>\n",
       "      <td>-63.795361</td>\n",
       "    </tr>\n",
       "    <tr>\n",
       "      <th>1</th>\n",
       "      <td>460</td>\n",
       "      <td>7.5</td>\n",
       "      <td>3.3</td>\n",
       "      <td>363.845182</td>\n",
       "      <td>96.154818</td>\n",
       "    </tr>\n",
       "    <tr>\n",
       "      <th>2</th>\n",
       "      <td>350</td>\n",
       "      <td>8.0</td>\n",
       "      <td>3.0</td>\n",
       "      <td>329.118350</td>\n",
       "      <td>20.881650</td>\n",
       "    </tr>\n",
       "    <tr>\n",
       "      <th>3</th>\n",
       "      <td>430</td>\n",
       "      <td>8.0</td>\n",
       "      <td>4.5</td>\n",
       "      <td>440.314786</td>\n",
       "      <td>-10.314786</td>\n",
       "    </tr>\n",
       "    <tr>\n",
       "      <th>4</th>\n",
       "      <td>350</td>\n",
       "      <td>6.8</td>\n",
       "      <td>3.0</td>\n",
       "      <td>359.088457</td>\n",
       "      <td>-9.088457</td>\n",
       "    </tr>\n",
       "  </tbody>\n",
       "</table>\n",
       "</div>"
      ],
      "text/plain": [
       "   pie_sales  price  advertising  pie_sales_pred   residual\n",
       "0        350    5.5          3.3      413.795361 -63.795361\n",
       "1        460    7.5          3.3      363.845182  96.154818\n",
       "2        350    8.0          3.0      329.118350  20.881650\n",
       "3        430    8.0          4.5      440.314786 -10.314786\n",
       "4        350    6.8          3.0      359.088457  -9.088457"
      ]
     },
     "execution_count": 17,
     "metadata": {},
     "output_type": "execute_result"
    }
   ],
   "source": [
    "df_pie['pie_sales_pred'] = model.predict(X)\n",
    "df_pie['residual'] = model.resid\n",
    "df_pie.drop(\"week\", axis=1).head()"
   ]
  },
  {
   "cell_type": "markdown",
   "metadata": {},
   "source": [
    "### Normalitas"
   ]
  },
  {
   "cell_type": "markdown",
   "metadata": {},
   "source": [
    "Asumsi normalitas bertujuan untuk memastikan bahwa model terdistribusi dengan normal. Pemeriksaan kenormalan dilakukan dengan menggunakan residual. Residual akan diplot dengan menggunakan QQ-Plot. Ciri-ciri dari data yang terdistribusi secara normal yaitu apabila diplot dengan menggunakan QQ-Plot titik-titik data tersebut tersebar di sekitar garis lurus."
   ]
  },
  {
   "cell_type": "code",
   "execution_count": 18,
   "metadata": {},
   "outputs": [
    {
     "data": {
      "image/png": "[encoded data removed]",
      "text/plain": [
       "<Figure size 432x288 with 1 Axes>"
      ]
     },
     "metadata": {
      "needs_background": "light"
     },
     "output_type": "display_data"
    }
   ],
   "source": [
    "fig = sm.qqplot(df_pie['residual'], stats.t, fit=True, line=\"45\")\n",
    "plt.show()"
   ]
  },
  {
   "cell_type": "markdown",
   "metadata": {},
   "source": [
    "Berdasarkan QQ-plot diatas didapatkan asumsi bahwa **data residual terdistribusi secara normal.**"
   ]
  },
  {
   "cell_type": "markdown",
   "metadata": {},
   "source": [
    "### Multikolinieritas"
   ]
  },
  {
   "cell_type": "markdown",
   "metadata": {},
   "source": [
    "Asumsi multikolinieritas bertujuan untuk menunjukkan terjadinya korelasi linier yang erat pada variabel independen. Dengan kata lain menunjukkan korelasi variabel independen dengan variabel dependen. Selain itu juga untuk menunjukkan bahwa variabel independen tidak memengaruhi satu sama lain, sehingga asumsi ini cocok untuk model *multiple linear regression*."
   ]
  },
  {
   "cell_type": "code",
   "execution_count": 19,
   "metadata": {},
   "outputs": [
    {
     "data": {
      "text/html": [
       "<div>\n",
       "<style scoped>\n",
       "    .dataframe tbody tr th:only-of-type {\n",
       "        vertical-align: middle;\n",
       "    }\n",
       "\n",
       "    .dataframe tbody tr th {\n",
       "        vertical-align: top;\n",
       "    }\n",
       "\n",
       "    .dataframe thead th {\n",
       "        text-align: right;\n",
       "    }\n",
       "</style>\n",
       "<table border=\"1\" class=\"dataframe\">\n",
       "  <thead>\n",
       "    <tr style=\"text-align: right;\">\n",
       "      <th></th>\n",
       "      <th>pie_sales</th>\n",
       "      <th>price</th>\n",
       "      <th>advertising</th>\n",
       "    </tr>\n",
       "  </thead>\n",
       "  <tbody>\n",
       "    <tr>\n",
       "      <th>pie_sales</th>\n",
       "      <td>1.000000</td>\n",
       "      <td>-0.443273</td>\n",
       "      <td>0.556320</td>\n",
       "    </tr>\n",
       "    <tr>\n",
       "      <th>price</th>\n",
       "      <td>-0.443273</td>\n",
       "      <td>1.000000</td>\n",
       "      <td>0.030438</td>\n",
       "    </tr>\n",
       "    <tr>\n",
       "      <th>advertising</th>\n",
       "      <td>0.556320</td>\n",
       "      <td>0.030438</td>\n",
       "      <td>1.000000</td>\n",
       "    </tr>\n",
       "  </tbody>\n",
       "</table>\n",
       "</div>"
      ],
      "text/plain": [
       "             pie_sales     price  advertising\n",
       "pie_sales     1.000000 -0.443273     0.556320\n",
       "price        -0.443273  1.000000     0.030438\n",
       "advertising   0.556320  0.030438     1.000000"
      ]
     },
     "execution_count": 19,
     "metadata": {},
     "output_type": "execute_result"
    }
   ],
   "source": [
    "m = df_pie[['pie_sales', 'price', 'advertising']]\n",
    "m.corr()"
   ]
  },
  {
   "cell_type": "markdown",
   "metadata": {},
   "source": [
    "Dapat dilihat pada tabel di atas bahwa atribut price memiliki korelasi negatif dengan pie_sales dan atribut advertising memiliki korelasi positif. Hal ini sesuai dengan hasil yang sebelumnya di dapatkan. Kedua atribut independen memiliki nilai korelasi mendekati 0. Hal ini menunjukkan bahwa **kedua variabel independen memiliki korelasi linier yang erat dan tidak saling memengaruhi satu sama lain.**"
   ]
  },
  {
   "cell_type": "markdown",
   "metadata": {},
   "source": [
    "### Autokorelasi"
   ]
  },
  {
   "cell_type": "markdown",
   "metadata": {},
   "source": [
    "Autokorelasi dilakukan untuk mengetahui adanya korelasi variabel di dalam model dengan perubahan waktu. Uji autokorelasi pada model regresi linier harus dilakukan apabila data merupakan data truntut waktu, karena nilai pada sampel tertentu sangat dipengaruhi oleh nilai sampel sebelumnya. Statistik uji yang sering dipakai adalah *Durbin-Watson statistics* (DW-statistics). *DW-statistic* menilai autokorelasi pada residual yang akan membandingkan 2 nilai DW Tabel, yaitu Durbin Upper (DU) dan Durbin Lower (DL). "
   ]
  },
  {
   "cell_type": "markdown",
   "metadata": {},
   "source": [
    "Hipotesis yang sering dilakukan pada pengujian autokorelasi adalah sebagai berikut.<br>\n",
    "**H0** : Tidak ada autokorelasi residual.\n",
    "**H1** : Ada autokorelasi residual."
   ]
  },
  {
   "cell_type": "markdown",
   "metadata": {},
   "source": [
    "Cara menentulan pengujian autokorelasi berdasarkan nilai DW adalah sebagai berikut.\n",
    "\n",
    "- Jika DW < DL maka tolak H0 dan terdapat autokorelasi positif\n",
    "- jika DW > 4–DL maka tolak H0 dan terdapat autokorelasi negatif\n",
    "- Jika DW > DU maka terima H0 dan tidak terdapat autokorelasi positif\n",
    "- Jika DU < DW < 4–DU , maka terima H0 dan tidak terdapat autokorelasi positif maupun negatif\n",
    "- Jika DL ≤ DW ≤ DU atau 4−DU ≤ DW ≤ 4−DL maka pengujian tidak meyakinkan atau tidak dapat disimpulkan.\n"
   ]
  },
  {
   "attachments": {},
   "cell_type": "markdown",
   "metadata": {},
   "source": [
    "<img src=\"tabel-durbin-watson-2-6380.jpg\">"
   ]
  },
  {
   "cell_type": "markdown",
   "metadata": {},
   "source": [
    "Diketahui bahwa n = 15 dan k = 2. Maka, pada *summary statsmodels* nilai *Durbin Watson* adalah **DW = 1.683** "
   ]
  },
  {
   "cell_type": "markdown",
   "metadata": {},
   "source": [
    "Berdasarkan tabel di atas, didapatkan nilai sebagai berikut <br>\n",
    "**DL = 0.9455**<br>\n",
    "**DU = 1.5432**<br>\n",
    "**4-DU = 2.4568**<br>\n",
    "**4-DL = 3.0545**<br><br>\n",
    "\n",
    "Didapat bahwa **DW > DU** dan **DU < DW < 4–DU** maka **H0 diterima** yang berarti **tidak terjadi autokorelasi pada data residual.**"
   ]
  },
  {
   "cell_type": "markdown",
   "metadata": {},
   "source": [
    "### Kesimpulan"
   ]
  },
  {
   "cell_type": "markdown",
   "metadata": {},
   "source": [
    "Dapat disimpulkan bahwa model yang dibangun dapat melewati seluruh pengujian yang dilakukan. Walaupun nilai prediksi yang diperoleh hanya 52.1%, model telah memenuhi syarat-syarat dalam pengujian lain, hal ini berarti terdapat sekitar 47.9% dipengaruhi atribut lain yang tidak dimasukkan ke dalam model. Sehingga dapat dikatakan model yang dibangun memiliki performansi dan dapat bekerja dengan baik untuk memprediksi penjualan pie hanya dengan dua atribut. Selain itu juga dapat diketahui bahwa atribut yang memengaruhi banyaknya penjualan pie adalah atribut price dan atribut advertising sebagai variabel independen. Pengaruh yang dimiliki dapat secara signifikan maupun parsial terhadap variabel dependen dan tidak saling memengaruhi satu sama lain antar variabel independen."
   ]
  },
  {
   "cell_type": "markdown",
   "metadata": {},
   "source": [
    "\n",
    "## Referensi "
   ]
  },
  {
   "cell_type": "markdown",
   "metadata": {},
   "source": [
    "https://ineddeni.files.wordpress.com/2008/07/regresi_linier.pdf <br>\n",
    "http://duwiconsultant.blogspot.com/2011/11/analisis-regresi-linier-berganda.html#:~:text=Adjusted%20R%20Square%20adalah%20nilai,R2%20sebagai%20koefisien%20determinasi <br>\n",
    "http://duwiconsultant.blogspot.com/2011/11/uji-autokorelasi.html"
   ]
  }
 ],
 "metadata": {
  "kernelspec": {
   "display_name": "Python 3",
   "language": "python",
   "name": "python3"
  },
  "language_info": {
   "codemirror_mode": {
    "name": "ipython",
    "version": 3
   },
   "file_extension": ".py",
   "mimetype": "text/x-python",
   "name": "python",
   "nbconvert_exporter": "python",
   "pygments_lexer": "ipython3",
   "version": "3.7.6"
  }
 },
 "nbformat": 4,
 "nbformat_minor": 4
}
